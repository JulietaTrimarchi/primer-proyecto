{
 "cells": [
  {
   "cell_type": "code",
   "execution_count": 28,
   "metadata": {},
   "outputs": [
    {
     "name": "stderr",
     "output_type": "stream",
     "text": [
      "[nltk_data] Downloading package stopwords to\n",
      "[nltk_data]     C:\\Users\\Juli\\AppData\\Roaming\\nltk_data...\n",
      "[nltk_data]   Package stopwords is already up-to-date!\n"
     ]
    },
    {
     "data": {
      "text/plain": [
       "True"
      ]
     },
     "execution_count": 28,
     "metadata": {},
     "output_type": "execute_result"
    }
   ],
   "source": [
    "import pandas as pd\n",
    "import numpy as np\n",
    "from sklearn.feature_extraction.text import TfidfVectorizer\n",
    "from sklearn.metrics.pairwise import cosine_similarity\n",
    "import nltk\n",
    "from nltk.corpus import stopwords\n",
    "nltk.download('stopwords')"
   ]
  },
  {
   "cell_type": "code",
   "execution_count": 29,
   "metadata": {},
   "outputs": [
    {
     "data": {
      "text/html": [
       "<div>\n",
       "<style scoped>\n",
       "    .dataframe tbody tr th:only-of-type {\n",
       "        vertical-align: middle;\n",
       "    }\n",
       "\n",
       "    .dataframe tbody tr th {\n",
       "        vertical-align: top;\n",
       "    }\n",
       "\n",
       "    .dataframe thead th {\n",
       "        text-align: right;\n",
       "    }\n",
       "</style>\n",
       "<table border=\"1\" class=\"dataframe\">\n",
       "  <thead>\n",
       "    <tr style=\"text-align: right;\">\n",
       "      <th></th>\n",
       "      <th>overview</th>\n",
       "      <th>title</th>\n",
       "      <th>genres_names</th>\n",
       "      <th>actors_names</th>\n",
       "      <th>directors_names</th>\n",
       "    </tr>\n",
       "  </thead>\n",
       "  <tbody>\n",
       "    <tr>\n",
       "      <th>0</th>\n",
       "      <td>College coeds in New York City, Al, the son of...</td>\n",
       "      <td>Down to You</td>\n",
       "      <td>Comedy, Drama, Family, Romance</td>\n",
       "      <td>Freddie Prinze Jr., Julia Stiles, Selma Blair,...</td>\n",
       "      <td>Kris Isacsson</td>\n",
       "    </tr>\n",
       "    <tr>\n",
       "      <th>1</th>\n",
       "      <td>The President of the United States must deal w...</td>\n",
       "      <td>Deterrence</td>\n",
       "      <td>Action, Drama, Mystery, Thriller</td>\n",
       "      <td>Kevin Pollak, Timothy Hutton, Sheryl Lee Ralph...</td>\n",
       "      <td>Rod Lurie</td>\n",
       "    </tr>\n",
       "    <tr>\n",
       "      <th>2</th>\n",
       "      <td>Brian Hooks plays a character who is just rele...</td>\n",
       "      <td>3 Strikes</td>\n",
       "      <td>Action, Comedy, Romance</td>\n",
       "      <td>Brian Hooks, N'Bushe Wright, Faizon Love, E-40...</td>\n",
       "      <td>DJ Pooh</td>\n",
       "    </tr>\n",
       "    <tr>\n",
       "      <th>3</th>\n",
       "      <td>An avid detective is assigned to investigate t...</td>\n",
       "      <td>Chain of Fools</td>\n",
       "      <td>Action, Comedy, Crime</td>\n",
       "      <td>Salma Hayek, Jeff Goldblum, Elijah Wood, David...</td>\n",
       "      <td>Pontus Löwenhielm, Patrick von Krusenstjerna</td>\n",
       "    </tr>\n",
       "    <tr>\n",
       "      <th>4</th>\n",
       "      <td>The recently deceased Mona Dearly (Bette Midle...</td>\n",
       "      <td>Drowning Mona</td>\n",
       "      <td>Comedy, Crime, Mystery</td>\n",
       "      <td>Danny DeVito, Bette Midler, Neve Campbell, Jam...</td>\n",
       "      <td>Nick Gomez</td>\n",
       "    </tr>\n",
       "    <tr>\n",
       "      <th>...</th>\n",
       "      <td>...</td>\n",
       "      <td>...</td>\n",
       "      <td>...</td>\n",
       "      <td>...</td>\n",
       "      <td>...</td>\n",
       "    </tr>\n",
       "    <tr>\n",
       "      <th>7575</th>\n",
       "      <td>A stranger named Silas flees from a devastatin...</td>\n",
       "      <td>The Final Storm</td>\n",
       "      <td>Action, Mystery, Thriller, Horror</td>\n",
       "      <td>Lauren Holly, Luke Perry, Steve Bacic, Cole He...</td>\n",
       "      <td>Uwe Boll</td>\n",
       "    </tr>\n",
       "    <tr>\n",
       "      <th>7576</th>\n",
       "      <td>Pretty, popular, and slim high-schooler Aly Sc...</td>\n",
       "      <td>To Be Fat Like Me</td>\n",
       "      <td>Drama, Family, TV Movie</td>\n",
       "      <td>Kaley Cuoco, Caroline Rhea, Melissa Halstrom, ...</td>\n",
       "      <td>Douglas Barr</td>\n",
       "    </tr>\n",
       "    <tr>\n",
       "      <th>7577</th>\n",
       "      <td>Hyperactive teenager Kelly is enrolled into a ...</td>\n",
       "      <td>Cadet Kelly</td>\n",
       "      <td>Comedy</td>\n",
       "      <td>Hilary Duff, Christy Carlson Romano, Gary Cole...</td>\n",
       "      <td>Larry Shaw</td>\n",
       "    </tr>\n",
       "    <tr>\n",
       "      <th>7578</th>\n",
       "      <td>It's Halloween in the 100 Acre Wood, and Roo's...</td>\n",
       "      <td>Pooh's Heffalump Halloween Movie</td>\n",
       "      <td>Animation, Family</td>\n",
       "      <td>Jimmy Bennett, Peter Cullen, Jim Cummings, Joh...</td>\n",
       "      <td>Saul Blinkoff, Elliot M. Bour</td>\n",
       "    </tr>\n",
       "    <tr>\n",
       "      <th>7579</th>\n",
       "      <td>When one of her hits goes wrong, a professiona...</td>\n",
       "      <td>Betrayal</td>\n",
       "      <td>Action, Drama, Thriller</td>\n",
       "      <td>Erika Eleniak, Adam Baldwin, Julie du Page, Ja...</td>\n",
       "      <td>Mark L. Lester</td>\n",
       "    </tr>\n",
       "  </tbody>\n",
       "</table>\n",
       "<p>7579 rows × 5 columns</p>\n",
       "</div>"
      ],
      "text/plain": [
       "                                               overview  \\\n",
       "0     College coeds in New York City, Al, the son of...   \n",
       "1     The President of the United States must deal w...   \n",
       "2     Brian Hooks plays a character who is just rele...   \n",
       "3     An avid detective is assigned to investigate t...   \n",
       "4     The recently deceased Mona Dearly (Bette Midle...   \n",
       "...                                                 ...   \n",
       "7575  A stranger named Silas flees from a devastatin...   \n",
       "7576  Pretty, popular, and slim high-schooler Aly Sc...   \n",
       "7577  Hyperactive teenager Kelly is enrolled into a ...   \n",
       "7578  It's Halloween in the 100 Acre Wood, and Roo's...   \n",
       "7579  When one of her hits goes wrong, a professiona...   \n",
       "\n",
       "                                 title                       genres_names  \\\n",
       "0                          Down to You     Comedy, Drama, Family, Romance   \n",
       "1                           Deterrence   Action, Drama, Mystery, Thriller   \n",
       "2                            3 Strikes            Action, Comedy, Romance   \n",
       "3                       Chain of Fools              Action, Comedy, Crime   \n",
       "4                        Drowning Mona             Comedy, Crime, Mystery   \n",
       "...                                ...                                ...   \n",
       "7575                   The Final Storm  Action, Mystery, Thriller, Horror   \n",
       "7576                 To Be Fat Like Me            Drama, Family, TV Movie   \n",
       "7577                       Cadet Kelly                             Comedy   \n",
       "7578  Pooh's Heffalump Halloween Movie                  Animation, Family   \n",
       "7579                          Betrayal            Action, Drama, Thriller   \n",
       "\n",
       "                                           actors_names  \\\n",
       "0     Freddie Prinze Jr., Julia Stiles, Selma Blair,...   \n",
       "1     Kevin Pollak, Timothy Hutton, Sheryl Lee Ralph...   \n",
       "2     Brian Hooks, N'Bushe Wright, Faizon Love, E-40...   \n",
       "3     Salma Hayek, Jeff Goldblum, Elijah Wood, David...   \n",
       "4     Danny DeVito, Bette Midler, Neve Campbell, Jam...   \n",
       "...                                                 ...   \n",
       "7575  Lauren Holly, Luke Perry, Steve Bacic, Cole He...   \n",
       "7576  Kaley Cuoco, Caroline Rhea, Melissa Halstrom, ...   \n",
       "7577  Hilary Duff, Christy Carlson Romano, Gary Cole...   \n",
       "7578  Jimmy Bennett, Peter Cullen, Jim Cummings, Joh...   \n",
       "7579  Erika Eleniak, Adam Baldwin, Julie du Page, Ja...   \n",
       "\n",
       "                                   directors_names  \n",
       "0                                    Kris Isacsson  \n",
       "1                                        Rod Lurie  \n",
       "2                                          DJ Pooh  \n",
       "3     Pontus Löwenhielm, Patrick von Krusenstjerna  \n",
       "4                                       Nick Gomez  \n",
       "...                                            ...  \n",
       "7575                                      Uwe Boll  \n",
       "7576                                  Douglas Barr  \n",
       "7577                                    Larry Shaw  \n",
       "7578                 Saul Blinkoff, Elliot M. Bour  \n",
       "7579                                Mark L. Lester  \n",
       "\n",
       "[7579 rows x 5 columns]"
      ]
     },
     "execution_count": 29,
     "metadata": {},
     "output_type": "execute_result"
    }
   ],
   "source": [
    "data = pd.read_parquet(\"./Datasets/Data para modelo\")\n",
    "data"
   ]
  },
  {
   "cell_type": "code",
   "execution_count": 30,
   "metadata": {},
   "outputs": [
    {
     "name": "stdout",
     "output_type": "stream",
     "text": [
      "<class 'pandas.core.frame.DataFrame'>\n",
      "Index: 7579 entries, 0 to 7579\n",
      "Data columns (total 5 columns):\n",
      " #   Column           Non-Null Count  Dtype \n",
      "---  ------           --------------  ----- \n",
      " 0   overview         7579 non-null   object\n",
      " 1   title            7579 non-null   object\n",
      " 2   genres_names     7579 non-null   object\n",
      " 3   actors_names     7579 non-null   object\n",
      " 4   directors_names  7579 non-null   object\n",
      "dtypes: object(5)\n",
      "memory usage: 355.3+ KB\n"
     ]
    }
   ],
   "source": [
    "data.info()"
   ]
  },
  {
   "cell_type": "code",
   "execution_count": 31,
   "metadata": {},
   "outputs": [],
   "source": [
    "# Preprocesamiento de los datos\n",
    "# Voy a combinar todas las columnas en una sola columna de texto\n",
    "data['combined'] = data[['genres_names', 'actors_names', 'directors_names', 'overview']].agg(' '.join, axis=1)"
   ]
  },
  {
   "cell_type": "code",
   "execution_count": 32,
   "metadata": {},
   "outputs": [],
   "source": [
    "stop = list(stopwords.words('english'))"
   ]
  },
  {
   "cell_type": "code",
   "execution_count": 33,
   "metadata": {},
   "outputs": [],
   "source": [
    "import re\n",
    "\n",
    "data['combined'] = data['combined'].apply(lambda x: re.sub(r'[^\\w\\s]', '', str(x)))"
   ]
  },
  {
   "cell_type": "code",
   "execution_count": 34,
   "metadata": {},
   "outputs": [],
   "source": [
    "# Creo el vectorizador con las stop words ya aplicadas\n",
    "\n",
    "vectorizer = TfidfVectorizer(stop_words=stop)\n",
    "tfidf_matrix = vectorizer.fit_transform(data['combined'])"
   ]
  },
  {
   "cell_type": "code",
   "execution_count": 36,
   "metadata": {},
   "outputs": [],
   "source": [
    "# Calculo la similitud del coseno\n",
    "cosine_sim = cosine_similarity(tfidf_matrix, tfidf_matrix)"
   ]
  },
  {
   "cell_type": "code",
   "execution_count": 38,
   "metadata": {},
   "outputs": [
    {
     "name": "stdout",
     "output_type": "stream",
     "text": [
      "Películas similares a la película 0: [283, 7203, 188, 1838, 253]\n"
     ]
    }
   ],
   "source": [
    "cosine_sim_df = pd.DataFrame(cosine_sim)\n",
    "\n",
    "# Función para obtener las 5 películas más similares (excluyendo la película en sí misma)\n",
    "def obtener_top_similitudes(sim_matrix, top_n=5):\n",
    "    recomendaciones = {}\n",
    "    for idx in range(sim_matrix.shape[0]):\n",
    "        # Obtener la fila de similitud para la película actual\n",
    "        sim_scores = sim_matrix[idx]\n",
    "        \n",
    "        # Crear un DataFrame con las similitudes y los índices\n",
    "        sim_scores_df = pd.DataFrame({\n",
    "            'index': range(len(sim_scores)),\n",
    "            'similarity': sim_scores\n",
    "        })\n",
    "        \n",
    "        # Ordenar por similitud en orden descendente y excluir el índice actual\n",
    "        sim_scores_df = sim_scores_df.sort_values(by='similarity', ascending=False)\n",
    "        sim_scores_df = sim_scores_df[sim_scores_df['index'] != idx]\n",
    "        \n",
    "        # Seleccionar los top_n similares\n",
    "        top_similitudes = sim_scores_df.head(top_n)\n",
    "        \n",
    "        # Guardar los resultados\n",
    "        recomendaciones[idx] = top_similitudes['index'].tolist()\n",
    "    \n",
    "    return recomendaciones\n",
    "\n",
    "# Obtener las 5 películas más similares para cada película\n",
    "recomendaciones = obtener_top_similitudes(cosine_sim_df)\n",
    "\n",
    "# Ejemplo de cómo acceder a las recomendaciones para la película con índice 0\n",
    "pelicula_index = 0\n",
    "print(f\"Películas similares a la película {pelicula_index}: {recomendaciones[pelicula_index]}\")\n"
   ]
  },
  {
   "cell_type": "code",
   "execution_count": 39,
   "metadata": {},
   "outputs": [
    {
     "data": {
      "text/plain": [
       "['recomendaciones.pkl']"
      ]
     },
     "execution_count": 39,
     "metadata": {},
     "output_type": "execute_result"
    }
   ],
   "source": [
    "import joblib\n",
    "\n",
    "# Guardaré la variable recomendaciones en un archivo PKL\n",
    "joblib.dump(recomendaciones, 'recomendaciones.pkl')"
   ]
  }
 ],
 "metadata": {
  "kernelspec": {
   "display_name": "primer_proyecto",
   "language": "python",
   "name": "python3"
  },
  "language_info": {
   "codemirror_mode": {
    "name": "ipython",
    "version": 3
   },
   "file_extension": ".py",
   "mimetype": "text/x-python",
   "name": "python",
   "nbconvert_exporter": "python",
   "pygments_lexer": "ipython3",
   "version": "3.12.4"
  }
 },
 "nbformat": 4,
 "nbformat_minor": 2
}
